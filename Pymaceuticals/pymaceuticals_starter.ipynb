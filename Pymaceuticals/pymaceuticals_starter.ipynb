{
 "cells": [
  {
   "cell_type": "markdown",
   "metadata": {},
   "source": [
    "## Observations and Insights"
   ]
  },
  {
   "cell_type": "markdown",
   "metadata": {},
   "source": [
    "Inference using the Scatter Plot: As the value of Pearson's r coefficient has come out to be 0.84, this indicates that \n",
    "there is a strong positive correlation between the weight of the mouse and the average volume of the tumor, that is, \n",
    "mice with higher weight have an higher tumor volume at an average. \n",
    "This positive covariance can also be seen from the line of best fit because most of the data points are scattered \n",
    "close to the line.\n",
    "\n",
    "Another inference that can be drawn is using the box plots: Out of the four drug regimen, Ramicane has proven to be most\n",
    " effective in reducing the tumor volume, followed by Capomulin.\n",
    "\n",
    "The third conclusion is derived from the bar graph which is: there were more test done with Ramicane and Capomulin.\n"
   ]
  },
  {
   "cell_type": "markdown",
   "metadata": {},
   "source": [
    "## Dependencies and starter code"
   ]
  },
  {
   "cell_type": "code",
   "execution_count": 173,
   "metadata": {
    "pycharm": {
     "is_executing": false
    }
   },
   "outputs": [],
   "source": [
    "# Dependencies and Setup\n",
    "import matplotlib.pyplot as plt\n",
    "import pandas as pd\n",
    "import scipy.stats as st\n",
    "from scipy.stats import linregress\n",
    "import numpy as np\n",
    "\n",
    "# Study data files\n",
    "mouse_metadata = \"data/Mouse_metadata.csv\"\n",
    "study_results = \"data/Study_results.csv\"\n",
    "\n",
    "# Read the mouse data and the study results\n",
    "mouse_metadata = pd.read_csv(mouse_metadata)\n",
    "study_results = pd.read_csv(study_results)\n",
    "\n",
    "# Combine the data into a single dataset\n",
    "df_mouse_study = pd.merge(mouse_metadata, study_results,on='Mouse ID')\n",
    "#df_mouse_study.shape\n",
    "#df_mouse_study.head(5)\n",
    "\n",
    "# Drop all the duplicates\n",
    "df_mouse_study.drop_duplicates(subset=None, keep='first', inplace=True)\n",
    "#df_mouse_study.head(5)"
   ]
  },
  {
   "cell_type": "markdown",
   "metadata": {},
   "source": [
    "## Summary statistics"
   ]
  },
  {
   "cell_type": "code",
   "execution_count": 174,
   "outputs": [
    {
     "data": {
      "text/plain": "Drug Regimen\nCapomulin    230\nCeftamin     178\nInfubinol    178\nKetapril     188\nNaftisol     186\nPlacebo      181\nPropriva     160\nRamicane     228\nStelasyn     181\nZoniferol    182\nName: Mouse ID, dtype: int64"
     },
     "metadata": {},
     "output_type": "execute_result",
     "execution_count": 174
    }
   ],
   "source": [
    "# Generate a summary statistics table consisting of the mean, median, variance, standard deviation,\n",
    "# and SEM of the tumor volume for each drug regimen.\n",
    "ser_mouseIDCount = df_mouse_study.groupby(\"Drug Regimen\")[\"Mouse ID\"].count()\n",
    "ser_mouseCountbyGender = df_mouse_study.groupby(\"Drug Regimen\")[\"Sex\"].count()\n",
    "ser_tumorVolbyDrug = df_mouse_study.groupby(\"Drug Regimen\")[\"Tumor Volume (mm3)\"].sum()\n",
    "ser_tumorVolbyDrugMean = round(ser_tumorVolbyDrug/ser_mouseIDCount,2)\n",
    "ser_tumorVolbyDrugMedian = df_mouse_study.groupby(\"Drug Regimen\")[\"Tumor Volume (mm3)\"].median()\n",
    "ser_tumorVolbyDrugVariance = df_mouse_study.groupby(\"Drug Regimen\")[\"Tumor Volume (mm3)\"].var()\n",
    "ser_tumorVolbyDrugStd = df_mouse_study.groupby(\"Drug Regimen\")[\"Tumor Volume (mm3)\"].std()\n",
    "ser_tumorVolbyDrugSem = df_mouse_study.groupby(\"Drug Regimen\")[\"Tumor Volume (mm3)\"].sem()\n",
    "ser_mouseIDCount"
   ],
   "metadata": {
    "collapsed": false,
    "pycharm": {
     "name": "#%%\n",
     "is_executing": false
    }
   }
  },
  {
   "cell_type": "code",
   "execution_count": 175,
   "metadata": {
    "pycharm": {
     "is_executing": false
    }
   },
   "outputs": [
    {
     "data": {
      "text/plain": "               Mean     Median   Variance  Standard Deviation       SEM\nDrug Regimen                                                           \nCapomulin     40.68  41.557809  24.947764            4.994774  0.329346\nCeftamin      52.59  51.776157  39.290177            6.268188  0.469821\nInfubinol     52.88  51.820584  43.128684            6.567243  0.492236\nKetapril      55.24  53.698743  68.553577            8.279709  0.603860\nNaftisol      54.33  52.509285  66.173479            8.134708  0.596466\nPlacebo       54.03  52.288934  61.168083            7.821003  0.581331\nPropriva      52.37  50.909965  42.278090            6.502160  0.514041\nRamicane      40.22  40.673236  23.486704            4.846308  0.320955\nStelasyn      54.23  52.431737  59.450562            7.710419  0.573111\nZoniferol     53.24  51.818479  48.533355            6.966589  0.516398",
      "text/html": "<div>\n<style scoped>\n    .dataframe tbody tr th:only-of-type {\n        vertical-align: middle;\n    }\n\n    .dataframe tbody tr th {\n        vertical-align: top;\n    }\n\n    .dataframe thead th {\n        text-align: right;\n    }\n</style>\n<table border=\"1\" class=\"dataframe\">\n  <thead>\n    <tr style=\"text-align: right;\">\n      <th></th>\n      <th>Mean</th>\n      <th>Median</th>\n      <th>Variance</th>\n      <th>Standard Deviation</th>\n      <th>SEM</th>\n    </tr>\n    <tr>\n      <th>Drug Regimen</th>\n      <th></th>\n      <th></th>\n      <th></th>\n      <th></th>\n      <th></th>\n    </tr>\n  </thead>\n  <tbody>\n    <tr>\n      <th>Capomulin</th>\n      <td>40.68</td>\n      <td>41.557809</td>\n      <td>24.947764</td>\n      <td>4.994774</td>\n      <td>0.329346</td>\n    </tr>\n    <tr>\n      <th>Ceftamin</th>\n      <td>52.59</td>\n      <td>51.776157</td>\n      <td>39.290177</td>\n      <td>6.268188</td>\n      <td>0.469821</td>\n    </tr>\n    <tr>\n      <th>Infubinol</th>\n      <td>52.88</td>\n      <td>51.820584</td>\n      <td>43.128684</td>\n      <td>6.567243</td>\n      <td>0.492236</td>\n    </tr>\n    <tr>\n      <th>Ketapril</th>\n      <td>55.24</td>\n      <td>53.698743</td>\n      <td>68.553577</td>\n      <td>8.279709</td>\n      <td>0.603860</td>\n    </tr>\n    <tr>\n      <th>Naftisol</th>\n      <td>54.33</td>\n      <td>52.509285</td>\n      <td>66.173479</td>\n      <td>8.134708</td>\n      <td>0.596466</td>\n    </tr>\n    <tr>\n      <th>Placebo</th>\n      <td>54.03</td>\n      <td>52.288934</td>\n      <td>61.168083</td>\n      <td>7.821003</td>\n      <td>0.581331</td>\n    </tr>\n    <tr>\n      <th>Propriva</th>\n      <td>52.37</td>\n      <td>50.909965</td>\n      <td>42.278090</td>\n      <td>6.502160</td>\n      <td>0.514041</td>\n    </tr>\n    <tr>\n      <th>Ramicane</th>\n      <td>40.22</td>\n      <td>40.673236</td>\n      <td>23.486704</td>\n      <td>4.846308</td>\n      <td>0.320955</td>\n    </tr>\n    <tr>\n      <th>Stelasyn</th>\n      <td>54.23</td>\n      <td>52.431737</td>\n      <td>59.450562</td>\n      <td>7.710419</td>\n      <td>0.573111</td>\n    </tr>\n    <tr>\n      <th>Zoniferol</th>\n      <td>53.24</td>\n      <td>51.818479</td>\n      <td>48.533355</td>\n      <td>6.966589</td>\n      <td>0.516398</td>\n    </tr>\n  </tbody>\n</table>\n</div>"
     },
     "metadata": {},
     "output_type": "execute_result",
     "execution_count": 175
    }
   ],
   "source": [
    "# Generate a summary statistics table of mean, median, variance, standard deviation, and SEM of the tumor volume for each regimen\n",
    "#combine all the series to create a dataframe\n",
    "df_drug_regimen_summary = pd.DataFrame({\"Mean\":ser_tumorVolbyDrugMean,\n",
    "                                        \"Median\":ser_tumorVolbyDrugMedian,\n",
    "                                        \"Variance\":ser_tumorVolbyDrugVariance ,\n",
    "                                        \"Standard Deviation\":ser_tumorVolbyDrugStd,\n",
    "                                        \"SEM\":ser_tumorVolbyDrugSem\n",
    "                                       })\n",
    "df_drug_regimen_summary"
   ]
  },
  {
   "cell_type": "markdown",
   "metadata": {},
   "source": [
    "## Bar plots"
   ]
  },
  {
   "cell_type": "code",
   "execution_count": 176,
   "metadata": {
    "pycharm": {
     "is_executing": false
    }
   },
   "outputs": [
    {
     "data": {
      "text/plain": "<Figure size 432x288 with 1 Axes>",
      "image/png": "[encoded data removed]"
     },
     "metadata": {
      "needs_background": "light"
     },
     "output_type": "display_data"
    },
    {
     "data": {
      "text/plain": "<Figure size 432x288 with 0 Axes>"
     },
     "metadata": {},
     "output_type": "display_data"
    }
   ],
   "source": [
    "# Generate a bar plot showing number of data points for each treatment regimen using pandas\n",
    "df_drug_regimen_barplt = pd.DataFrame({\"DataPoint\":ser_mouseIDCount                                        \n",
    "                                       })\n",
    "df_drug_regimen_barplt.head(10)\n",
    "df_drug_regimen_barplt.plot(kind='bar',y='DataPoint')\n",
    "plt.ylabel('Number of Data Points')\n",
    "#plt.title(\"Datapoints by Drug Regimen\")\n",
    "plt.show()\n",
    "plt.tight_layout()\n",
    "#df_drug_regimen_barplt.show()"
   ]
  },
  {
   "cell_type": "code",
   "execution_count": 177,
   "metadata": {
    "pycharm": {
     "is_executing": false
    }
   },
   "outputs": [
    {
     "data": {
      "text/plain": "<Figure size 504x288 with 1 Axes>",
      "image/png": "[encoded data removed]"
     },
     "metadata": {
      "needs_background": "light"
     },
     "output_type": "display_data"
    }
   ],
   "source": [
    "# Generate a bar plot showing number of data points for each treatment regimen using pyplot\n",
    "# Set x axis and tick locations\n",
    "x_axis = np.arange(len(df_drug_regimen_barplt))\n",
    "tick_locations = [value for value in x_axis]\n",
    "plt.figure(figsize=(7,4))\n",
    "plt.ylabel('Number of Data Points')\n",
    "plt.xlabel('Drug Regimen')\n",
    "plt.bar(x_axis, df_drug_regimen_barplt[\"DataPoint\"], align=\"center\")\n",
    "plt.xticks(tick_locations, df_drug_regimen_barplt.index, rotation=\"vertical\")\n",
    "plt.show()"
   ]
  },
  {
   "cell_type": "markdown",
   "metadata": {},
   "source": [
    "## Pie plots"
   ]
  },
  {
   "cell_type": "code",
   "execution_count": 178,
   "metadata": {
    "pycharm": {
     "is_executing": false
    }
   },
   "outputs": [
    {
     "data": {
      "text/plain": "        Sex\nSex        \nFemale  934\nMale    958",
      "text/html": "<div>\n<style scoped>\n    .dataframe tbody tr th:only-of-type {\n        vertical-align: middle;\n    }\n\n    .dataframe tbody tr th {\n        vertical-align: top;\n    }\n\n    .dataframe thead th {\n        text-align: right;\n    }\n</style>\n<table border=\"1\" class=\"dataframe\">\n  <thead>\n    <tr style=\"text-align: right;\">\n      <th></th>\n      <th>Sex</th>\n    </tr>\n    <tr>\n      <th>Sex</th>\n      <th></th>\n    </tr>\n  </thead>\n  <tbody>\n    <tr>\n      <th>Female</th>\n      <td>934</td>\n    </tr>\n    <tr>\n      <th>Male</th>\n      <td>958</td>\n    </tr>\n  </tbody>\n</table>\n</div>"
     },
     "metadata": {},
     "output_type": "execute_result",
     "execution_count": 178
    }
   ],
   "source": [
    "ser_mouseIDCountbyGender = df_mouse_study.groupby(\"Sex\")[\"Mouse ID\"].count()\n",
    "#ser_mouseIDCountbyGender\n",
    "df_gender_dist = pd.DataFrame({\"Sex\":ser_mouseIDCountbyGender                                        \n",
    "                                       })\n",
    "df_gender_dist.head()\n",
    "#plot = df_gender_dist.plot.pie(y='Sex', figsize=(5, 5),autopct='%1.1f%%')\n",
    "\n"
   ]
  },
  {
   "cell_type": "code",
   "execution_count": 179,
   "outputs": [
    {
     "data": {
      "text/plain": "<Figure size 360x360 with 1 Axes>",
      "image/png": "[encoded data removed]"
     },
     "metadata": {},
     "output_type": "display_data"
    }
   ],
   "source": [
    "# Generate a pie plot showing the distribution of female versus male mice using pandas\n",
    "plot = df_gender_dist.plot.pie(y='Sex', figsize=(5, 5),autopct='%1.1f%%')\n",
    "#plot.title('Sex')"
   ],
   "metadata": {
    "collapsed": false,
    "pycharm": {
     "name": "#%%\n",
     "is_executing": false
    }
   }
  },
  {
   "cell_type": "code",
   "execution_count": 180,
   "metadata": {
    "pycharm": {
     "is_executing": false
    }
   },
   "outputs": [
    {
     "data": {
      "text/plain": "<Figure size 432x288 with 1 Axes>",
      "image/png": "[encoded data removed]"
     },
     "metadata": {},
     "output_type": "display_data"
    }
   ],
   "source": [
    "# Generate a pie plot showing the distribution of female versus male mice using pyplot\n",
    "sizes = df_gender_dist['Sex']\n",
    "plt.pie(sizes, labels=['Female','Male'], autopct='%1.1f%%' )\n",
    "plt.ylabel('Sex')\n",
    "plt.show()"
   ]
  },
  {
   "cell_type": "markdown",
   "metadata": {},
   "source": [
    "## Quartiles, outliers and boxplots"
   ]
  },
  {
   "cell_type": "code",
   "execution_count": 181,
   "metadata": {
    "pycharm": {
     "is_executing": false
    }
   },
   "outputs": [
    {
     "data": {
      "text/plain": "    Mouse ID Drug Regimen     Sex  Age_months  Weight (g)  Timepoint  \\\n309     b128    Capomulin  Female           9          22         45   \n299     b742    Capomulin    Male           7          21         45   \n244     g288    Capomulin    Male           3          19         45   \n360     g316    Capomulin  Female          22          22         45   \n440     i557    Capomulin  Female           1          24         45   \n204     i738    Capomulin  Female          23          20         45   \n337     j119    Capomulin  Female           7          23         45   \n380     l509    Capomulin    Male          17          21         45   \n282     l897    Capomulin    Male          17          19         45   \n39      m601    Capomulin    Male          22          17         45   \n\n     Tumor Volume (mm3)  Metastatic Sites  \n309           38.982878                 2  \n299           38.939633                 0  \n244           37.074024                 1  \n360           40.159220                 2  \n440           47.685963                 1  \n204           37.311846                 2  \n337           38.125164                 1  \n380           41.483008                 3  \n282           38.846876                 1  \n39            28.430964                 1  ",
      "text/html": "<div>\n<style scoped>\n    .dataframe tbody tr th:only-of-type {\n        vertical-align: middle;\n    }\n\n    .dataframe tbody tr th {\n        vertical-align: top;\n    }\n\n    .dataframe thead th {\n        text-align: right;\n    }\n</style>\n<table border=\"1\" class=\"dataframe\">\n  <thead>\n    <tr style=\"text-align: right;\">\n      <th></th>\n      <th>Mouse ID</th>\n      <th>Drug Regimen</th>\n      <th>Sex</th>\n      <th>Age_months</th>\n      <th>Weight (g)</th>\n      <th>Timepoint</th>\n      <th>Tumor Volume (mm3)</th>\n      <th>Metastatic Sites</th>\n    </tr>\n  </thead>\n  <tbody>\n    <tr>\n      <th>309</th>\n      <td>b128</td>\n      <td>Capomulin</td>\n      <td>Female</td>\n      <td>9</td>\n      <td>22</td>\n      <td>45</td>\n      <td>38.982878</td>\n      <td>2</td>\n    </tr>\n    <tr>\n      <th>299</th>\n      <td>b742</td>\n      <td>Capomulin</td>\n      <td>Male</td>\n      <td>7</td>\n      <td>21</td>\n      <td>45</td>\n      <td>38.939633</td>\n      <td>0</td>\n    </tr>\n    <tr>\n      <th>244</th>\n      <td>g288</td>\n      <td>Capomulin</td>\n      <td>Male</td>\n      <td>3</td>\n      <td>19</td>\n      <td>45</td>\n      <td>37.074024</td>\n      <td>1</td>\n    </tr>\n    <tr>\n      <th>360</th>\n      <td>g316</td>\n      <td>Capomulin</td>\n      <td>Female</td>\n      <td>22</td>\n      <td>22</td>\n      <td>45</td>\n      <td>40.159220</td>\n      <td>2</td>\n    </tr>\n    <tr>\n      <th>440</th>\n      <td>i557</td>\n      <td>Capomulin</td>\n      <td>Female</td>\n      <td>1</td>\n      <td>24</td>\n      <td>45</td>\n      <td>47.685963</td>\n      <td>1</td>\n    </tr>\n    <tr>\n      <th>204</th>\n      <td>i738</td>\n      <td>Capomulin</td>\n      <td>Female</td>\n      <td>23</td>\n      <td>20</td>\n      <td>45</td>\n      <td>37.311846</td>\n      <td>2</td>\n    </tr>\n    <tr>\n      <th>337</th>\n      <td>j119</td>\n      <td>Capomulin</td>\n      <td>Female</td>\n      <td>7</td>\n      <td>23</td>\n      <td>45</td>\n      <td>38.125164</td>\n      <td>1</td>\n    </tr>\n    <tr>\n      <th>380</th>\n      <td>l509</td>\n      <td>Capomulin</td>\n      <td>Male</td>\n      <td>17</td>\n      <td>21</td>\n      <td>45</td>\n      <td>41.483008</td>\n      <td>3</td>\n    </tr>\n    <tr>\n      <th>282</th>\n      <td>l897</td>\n      <td>Capomulin</td>\n      <td>Male</td>\n      <td>17</td>\n      <td>19</td>\n      <td>45</td>\n      <td>38.846876</td>\n      <td>1</td>\n    </tr>\n    <tr>\n      <th>39</th>\n      <td>m601</td>\n      <td>Capomulin</td>\n      <td>Male</td>\n      <td>22</td>\n      <td>17</td>\n      <td>45</td>\n      <td>28.430964</td>\n      <td>1</td>\n    </tr>\n  </tbody>\n</table>\n</div>"
     },
     "metadata": {},
     "output_type": "execute_result",
     "execution_count": 181
    }
   ],
   "source": [
    "# Calculate the final tumor volume of each mouse across four of the most promising treatment regimens. Calculate the IQR and quantitatively determine if there are any potential outliers. \n",
    "# Calculate the final tumor volume of each mouse across four of the most promising treatment regimens: Capomulin, Ramicane, Infubinol, and Ceftamin\n",
    "#Sort data by Drug Regime, Mouse ID and Timepoint\n",
    "df_mouse_study_sorted = df_mouse_study.sort_values([\"Drug Regimen\", \"Mouse ID\", \"Timepoint\"],ascending=True)\n",
    "#df_mouse_study_sorted.head()\n",
    "# Create a new dataframe by selecting final volume of each mouse\n",
    "df_mouse_study_maxvol = df_mouse_study_sorted.loc[df_mouse_study_sorted['Timepoint']==45]\n",
    "df_mouse_study_maxvol.reset_index()\n",
    "df_mouse_study_maxvol.head(10)"
   ]
  },
  {
   "cell_type": "code",
   "execution_count": 182,
   "outputs": [],
   "source": [
    "# Select data for Capomulin regimen and reset index\n",
    "cap_data_df = df_mouse_study[df_mouse_study['Drug Regimen'].isin(['Capomulin'])]\n",
    "cap_data_df = cap_data_df.sort_values(['Mouse ID','Timepoint'],ascending=False)\n",
    "cap_data_df.reset_index()\n",
    "cap_data_df = cap_data_df.drop_duplicates(subset=\"Mouse ID\", keep=\"first\")\n",
    "cap_data_df.reset_index()\n",
    "# for plotting the graph you will need to sort all the data in ascending order\n",
    "cap_list = cap_data_df.sort_values([\"Tumor Volume (mm3)\"], ascending=True).reset_index()\n",
    "#sorted value in ascending order\n",
    "cap_list = cap_list[\"Tumor Volume (mm3)\"]\n",
    "# for plotting it together with other drugs , keep this list as a dictionary\n",
    "dict_forBoxPlot = {}\n",
    "dict_forBoxPlot.update({'Capomulin':cap_list})"
   ],
   "metadata": {
    "collapsed": false,
    "pycharm": {
     "name": "#%%\n",
     "is_executing": false
    }
   }
  },
  {
   "cell_type": "code",
   "execution_count": 183,
   "outputs": [
    {
     "name": "stdout",
     "text": [
      "The lower quartile of tumor volume for Capomulin is: 32.37735684\n",
      "The upper quartile of tumor volume for Capomulin is: 40.1592203\n",
      "The interquartile range of Capomulin tumor volume is: 7.781863460000004\n",
      "The the median of Capomulin tumor volume is: 38.125164399999996 \n",
      "Values below 20.70456164999999 could be outliers.\n",
      "Values above 51.83201549 could be outliers.\n"
     ],
     "output_type": "stream"
    }
   ],
   "source": [
    "# all calculations for Capomulin\n",
    "# If the data is in a dataframe, we use pandas to give quartile calculations\n",
    "quartiles = cap_list.quantile([.25,.5,.75])\n",
    "lowerq = quartiles[0.25]\n",
    "upperq = quartiles[0.75]\n",
    "iqr = upperq-lowerq\n",
    "\n",
    "print(f\"The lower quartile of tumor volume for Capomulin is: {lowerq}\")\n",
    "print(f\"The upper quartile of tumor volume for Capomulin is: {upperq}\")\n",
    "print(f\"The interquartile range of Capomulin tumor volume is: {iqr}\")\n",
    "print(f\"The the median of Capomulin tumor volume is: {quartiles[0.5]} \")\n",
    "\n",
    "lower_bound = lowerq - (1.5*iqr)\n",
    "upper_bound = upperq + (1.5*iqr)\n",
    "print(f\"Values below {lower_bound} could be outliers.\")\n",
    "print(f\"Values above {upper_bound} could be outliers.\")\n"
   ],
   "metadata": {
    "collapsed": false,
    "pycharm": {
     "name": "#%%\n",
     "is_executing": false
    }
   }
  },
  {
   "cell_type": "code",
   "execution_count": 184,
   "outputs": [
    {
     "data": {
      "text/plain": "<Figure size 432x288 with 1 Axes>",
      "image/png": "[encoded data removed]"
     },
     "metadata": {
      "needs_background": "light"
     },
     "output_type": "display_data"
    }
   ],
   "source": [
    "# box plot for Capomulin \n",
    "fig1, ax1 = plt.subplots()\n",
    "ax1.set_title('Final Tumor Volume in Capomulin Regimen')\n",
    "ax1.set_ylabel('Final Tumor Volume (mm3)')\n",
    "ax1.boxplot(cap_list)\n",
    "plt.show()\n"
   ],
   "metadata": {
    "collapsed": false,
    "pycharm": {
     "name": "#%%\n",
     "is_executing": false
    }
   }
  },
  {
   "cell_type": "code",
   "execution_count": 185,
   "outputs": [],
   "source": [
    "# Select data for Ramicane regimen and reset index\n",
    "ram_data_df = df_mouse_study[df_mouse_study['Drug Regimen'].isin(['Ramicane'])]\n",
    "ram_data_df = ram_data_df.sort_values(['Mouse ID','Timepoint'],ascending=False)\n",
    "ram_data_df.reset_index()\n",
    "ram_data_df = ram_data_df.drop_duplicates(subset=\"Mouse ID\", keep=\"first\")\n",
    "ram_data_df.reset_index()\n",
    "#sorted value in ascending order\n",
    "ram_list = ram_data_df.sort_values([\"Tumor Volume (mm3)\"], ascending=True).reset_index()\n",
    "ram_list = ram_list[\"Tumor Volume (mm3)\"]\n",
    "# for plotting it together with other drugs , keep this list as a dictionary\n",
    "dict_forBoxPlot.update({'Ramicane':ram_list})\n",
    "\n"
   ],
   "metadata": {
    "collapsed": false,
    "pycharm": {
     "name": "#%%\n",
     "is_executing": false
    }
   }
  },
  {
   "cell_type": "code",
   "execution_count": 186,
   "outputs": [
    {
     "name": "stdout",
     "text": [
      "The lower quartile of tumor volume for Ramicane is: 32.37735684\n",
      "The upper quartile of tumor volume for Ramicane is: 40.1592203\n",
      "The interquartile range of Ramicane tumor volume is: 7.781863460000004\n",
      "The the median of Ramicane tumor volume is: 38.125164399999996 \n",
      "Values below 20.70456164999999 could be outliers.\n",
      "Values above 51.83201549 could be outliers.\n"
     ],
     "output_type": "stream"
    }
   ],
   "source": [
    "# all calculations for Ramicane\n",
    "# If the data is in a dataframe, we use pandas to give quartile calculations\n",
    "quartiles = cap_list.quantile([.25,.5,.75])\n",
    "lowerq = quartiles[0.25]\n",
    "upperq = quartiles[0.75]\n",
    "iqr = upperq-lowerq\n",
    "\n",
    "print(f\"The lower quartile of tumor volume for Ramicane is: {lowerq}\")\n",
    "print(f\"The upper quartile of tumor volume for Ramicane is: {upperq}\")\n",
    "print(f\"The interquartile range of Ramicane tumor volume is: {iqr}\")\n",
    "print(f\"The the median of Ramicane tumor volume is: {quartiles[0.5]} \")\n",
    "\n",
    "lower_bound = lowerq - (1.5*iqr)\n",
    "upper_bound = upperq + (1.5*iqr)\n",
    "print(f\"Values below {lower_bound} could be outliers.\")\n",
    "print(f\"Values above {upper_bound} could be outliers.\")\n"
   ],
   "metadata": {
    "collapsed": false,
    "pycharm": {
     "name": "#%%\n",
     "is_executing": false
    }
   }
  },
  {
   "cell_type": "code",
   "execution_count": 187,
   "outputs": [
    {
     "data": {
      "text/plain": "<Figure size 432x288 with 1 Axes>",
      "image/png": "[encoded data removed]"
     },
     "metadata": {
      "needs_background": "light"
     },
     "output_type": "display_data"
    }
   ],
   "source": [
    "# box plot for Ramicane \n",
    "fig1, ax1 = plt.subplots()\n",
    "ax1.set_title('Final Tumor Volume in Ramicane Regimen')\n",
    "ax1.set_ylabel('Final Tumor Volume (mm3)')\n",
    "ax1.boxplot(ram_list)\n",
    "plt.show()"
   ],
   "metadata": {
    "collapsed": false,
    "pycharm": {
     "name": "#%%\n",
     "is_executing": false
    }
   }
  },
  {
   "cell_type": "code",
   "execution_count": 188,
   "outputs": [],
   "source": [
    "# Select data for Infubinol regimen and reset index\n",
    "inf_data_df = df_mouse_study[df_mouse_study['Drug Regimen'].isin(['Infubinol'])]\n",
    "inf_data_df = inf_data_df.sort_values(['Mouse ID','Timepoint'],ascending=False)\n",
    "inf_data_df.reset_index()\n",
    "inf_data_df = inf_data_df.drop_duplicates(subset=\"Mouse ID\", keep=\"first\")\n",
    "inf_data_df.reset_index()\n",
    "#sorted value in ascending order\n",
    "inf_list = inf_data_df.sort_values([\"Tumor Volume (mm3)\"], ascending=True).reset_index()\n",
    "#sorted value in ascending order\n",
    "inf_list = inf_list[\"Tumor Volume (mm3)\"]\n",
    "# for plotting it together with other drugs , keep this list as a dictionary\n",
    "dict_forBoxPlot.update({'Infubinol':inf_list})"
   ],
   "metadata": {
    "collapsed": false,
    "pycharm": {
     "name": "#%%\n",
     "is_executing": false
    }
   }
  },
  {
   "cell_type": "code",
   "execution_count": 189,
   "outputs": [
    {
     "name": "stdout",
     "text": [
      "The lower quartile of tumor volume for Infubinol is: 32.37735684\n",
      "The upper quartile of tumor volume for Infubinol is: 40.1592203\n",
      "The interquartile range of Infubinol tumor volume is: 7.781863460000004\n",
      "The the median of Infubinol tumor volume is: 38.125164399999996 \n",
      "Values below 20.70456164999999 could be outliers.\n",
      "Values above 51.83201549 could be outliers.\n"
     ],
     "output_type": "stream"
    }
   ],
   "source": [
    "# all calculations for Infubinol\n",
    "# If the data is in a dataframe, we use pandas to give quartile calculations\n",
    "quartiles = cap_list.quantile([.25,.5,.75])\n",
    "lowerq = quartiles[0.25]\n",
    "upperq = quartiles[0.75]\n",
    "iqr = upperq-lowerq\n",
    "\n",
    "print(f\"The lower quartile of tumor volume for Infubinol is: {lowerq}\")\n",
    "print(f\"The upper quartile of tumor volume for Infubinol is: {upperq}\")\n",
    "print(f\"The interquartile range of Infubinol tumor volume is: {iqr}\")\n",
    "print(f\"The the median of Infubinol tumor volume is: {quartiles[0.5]} \")\n",
    "\n",
    "lower_bound = lowerq - (1.5*iqr)\n",
    "upper_bound = upperq + (1.5*iqr)\n",
    "print(f\"Values below {lower_bound} could be outliers.\")\n",
    "print(f\"Values above {upper_bound} could be outliers.\")"
   ],
   "metadata": {
    "collapsed": false,
    "pycharm": {
     "name": "#%%\n",
     "is_executing": false
    }
   }
  },
  {
   "cell_type": "code",
   "execution_count": 190,
   "outputs": [
    {
     "data": {
      "text/plain": "<Figure size 432x288 with 1 Axes>",
      "image/png": "[encoded data removed]"
     },
     "metadata": {
      "needs_background": "light"
     },
     "output_type": "display_data"
    }
   ],
   "source": [
    "fig1, ax1 = plt.subplots()\n",
    "ax1.set_title('Final Tumor Volume in Infubinol Regimen')\n",
    "ax1.set_ylabel('Final Tumor Volume (mm3)')\n",
    "ax1.boxplot(inf_list,sym = 'r.')\n",
    "plt.show()"
   ],
   "metadata": {
    "collapsed": false,
    "pycharm": {
     "name": "#%%\n",
     "is_executing": false
    }
   }
  },
  {
   "cell_type": "code",
   "execution_count": 191,
   "outputs": [],
   "source": [
    "# Select data for Ceftamin regimen and reset index\n",
    "ceft_data_df = df_mouse_study[df_mouse_study['Drug Regimen'].isin(['Ceftamin'])]\n",
    "ceft_data_df = ceft_data_df.sort_values(['Mouse ID','Timepoint'],ascending=False)\n",
    "ceft_data_df.reset_index()\n",
    "ceft_data_df = ceft_data_df.drop_duplicates(subset=\"Mouse ID\", keep=\"first\")\n",
    "ceft_data_df.reset_index()\n",
    "#sorted value in ascending order\n",
    "ceft_list = ceft_data_df.sort_values([\"Tumor Volume (mm3)\"], ascending=True).reset_index()\n",
    "#sorted value in ascending order\n",
    "ceft_list = ceft_list[\"Tumor Volume (mm3)\"]\n",
    "# for plotting it together with other drugs , keep this list as a dictionary\n",
    "dict_forBoxPlot.update({'Ceftamin':ceft_list})\n"
   ],
   "metadata": {
    "collapsed": false,
    "pycharm": {
     "name": "#%%\n",
     "is_executing": false
    }
   }
  },
  {
   "cell_type": "code",
   "execution_count": 192,
   "outputs": [
    {
     "name": "stdout",
     "text": [
      "The lower quartile of tumor volume for Ceftamin is: 32.37735684\n",
      "The upper quartile of tumor volume for Ceftamin is: 40.1592203\n",
      "The interquartile range of Ceftamin tumor volume is: 7.781863460000004\n",
      "The the median of Ceftamin tumor volume is: 38.125164399999996 \n",
      "Values below 20.70456164999999 could be outliers.\n",
      "Values above 51.83201549 could be outliers.\n"
     ],
     "output_type": "stream"
    }
   ],
   "source": [
    "# all calculations for Ceftamin\n",
    "# If the data is in a dataframe, we use pandas to give quartile calculations\n",
    "quartiles = cap_list.quantile([.25,.5,.75])\n",
    "lowerq = quartiles[0.25]\n",
    "upperq = quartiles[0.75]\n",
    "iqr = upperq-lowerq\n",
    "\n",
    "print(f\"The lower quartile of tumor volume for Ceftamin is: {lowerq}\")\n",
    "print(f\"The upper quartile of tumor volume for Ceftamin is: {upperq}\")\n",
    "print(f\"The interquartile range of Ceftamin tumor volume is: {iqr}\")\n",
    "print(f\"The the median of Ceftamin tumor volume is: {quartiles[0.5]} \")\n",
    "\n",
    "lower_bound = lowerq - (1.5*iqr)\n",
    "upper_bound = upperq + (1.5*iqr)\n",
    "print(f\"Values below {lower_bound} could be outliers.\")\n",
    "print(f\"Values above {upper_bound} could be outliers.\")\n"
   ],
   "metadata": {
    "collapsed": false,
    "pycharm": {
     "name": "#%%\n",
     "is_executing": false
    }
   }
  },
  {
   "cell_type": "code",
   "execution_count": 193,
   "outputs": [
    {
     "data": {
      "text/plain": "<Figure size 432x288 with 1 Axes>",
      "image/png": "[encoded data removed]"
     },
     "metadata": {
      "needs_background": "light"
     },
     "output_type": "display_data"
    }
   ],
   "source": [
    "fig1, ax1 = plt.subplots()\n",
    "ax1.set_title('Final Tumor Volume in Ceftamin Regimen')\n",
    "ax1.set_ylabel('Final Tumor Volume (mm3)')\n",
    "ax1.boxplot(ceft_list)\n",
    "plt.show()\n"
   ],
   "metadata": {
    "collapsed": false,
    "pycharm": {
     "name": "#%%\n",
     "is_executing": false
    }
   }
  },
  {
   "cell_type": "code",
   "execution_count": 194,
   "metadata": {
    "pycharm": {
     "is_executing": false
    }
   },
   "outputs": [
    {
     "data": {
      "text/plain": "<Figure size 432x288 with 1 Axes>",
      "image/png": "[encoded data removed]"
     },
     "metadata": {
      "needs_background": "light"
     },
     "output_type": "display_data"
    }
   ],
   "source": [
    "# Generate a box plot of the final tumor volume of each mouse across four regimens of interest\n",
    "fig, ax = plt.subplots()\n",
    "ax.boxplot(dict_forBoxPlot.values(),sym = 'r.')\n",
    "ax.set_xticklabels(dict_forBoxPlot.keys())\n",
    "ax.set_title('Final Tumor Volume for all four Drug Regimen')\n",
    "ax.set_ylabel('Final Tumor Volume (mm3)')\n",
    "plt.show()"
   ]
  },
  {
   "cell_type": "markdown",
   "metadata": {},
   "source": [
    "## Line and scatter plots"
   ]
  },
  {
   "cell_type": "code",
   "execution_count": 195,
   "metadata": {
    "pycharm": {
     "is_executing": false
    }
   },
   "outputs": [
    {
     "data": {
      "text/plain": "<Figure size 432x288 with 1 Axes>",
      "image/png": "[encoded data removed]"
     },
     "metadata": {
      "needs_background": "light"
     },
     "output_type": "display_data"
    }
   ],
   "source": [
    "# Generate a line plot of time point versus tumor volume for a mouse treated with Capomulin\n",
    "# Generate a line plot of time point versus tumor volume for **mouse number l509** treated with Capomulin.\n",
    "# Create a dataframe with just the data asked above\n",
    "df_l509 = df_mouse_study[df_mouse_study['Mouse ID'].isin(['l509'])]\n",
    "# draw the line plot\n",
    "ax = plt.gca()\n",
    "df_l509.plot(kind='line',x='Timepoint',y='Tumor Volume (mm3)',ax=ax)\n",
    "plt.xlabel('Timepoint(days)')\n",
    "plt.ylabel('Tumor Volume (mm3)')\n",
    "plt.show()"
   ]
  },
  {
   "cell_type": "code",
   "execution_count": 196,
   "metadata": {
    "pycharm": {
     "is_executing": false
    }
   },
   "outputs": [
    {
     "data": {
      "text/plain": "Text(0, 0.5, 'Tumor Volume (mm3)')"
     },
     "metadata": {},
     "output_type": "execute_result",
     "execution_count": 196
    },
    {
     "data": {
      "text/plain": "<Figure size 432x288 with 1 Axes>",
      "image/png": "[encoded data removed]"
     },
     "metadata": {
      "needs_background": "light"
     },
     "output_type": "display_data"
    }
   ],
   "source": [
    "# Generate a scatter plot of mouse weight versus average tumor volume for the Capomulin regimen\n",
    "df_cap_data = df_mouse_study[df_mouse_study['Drug Regimen'].isin(['Capomulin'])]\n",
    "df_cap_data_sctr = df_cap_data.groupby('Mouse ID').mean()[['Weight (g)', 'Tumor Volume (mm3)']]\n",
    "df_cap_data_sctr.plot(kind='scatter',x='Weight (g)',y='Tumor Volume (mm3)')\n",
    "plt.xlabel('Weight (g)')\n",
    "plt.ylabel('Tumor Volume (mm3)')"
   ]
  },
  {
   "cell_type": "code",
   "execution_count": 197,
   "metadata": {
    "pycharm": {
     "is_executing": false
    }
   },
   "outputs": [
    {
     "name": "stdout",
     "text": [
      "The correlation between both factors is 0.84\n"
     ],
     "output_type": "stream"
    },
    {
     "data": {
      "text/plain": "<Figure size 432x288 with 1 Axes>",
      "image/png": "[encoded data removed]"
     },
     "metadata": {
      "needs_background": "light"
     },
     "output_type": "display_data"
    }
   ],
   "source": [
    "# Calculate the correlation coefficient and linear regression model for mouse weight and average tumor volume for the Capomulin regimen\n",
    "\n",
    "# Add the linear regression equation and line to plot\n",
    "x_values = df_cap_data_sctr['Weight (g)']\n",
    "y_values = df_cap_data_sctr['Tumor Volume (mm3)']\n",
    "correlation = st.pearsonr(x_values,y_values)\n",
    "print(f\"The correlation between both factors is {round(correlation[0],2)}\")\n",
    "\n",
    "(slope, intercept, rvalue, pvalue, stderr) = linregress(x_values, y_values)\n",
    "regress_values = x_values * slope + intercept\n",
    "line_eq = \"y = \" + str(round(slope,2)) + \"x + \" + str(round(intercept,2))\n",
    "plt.scatter(x_values,y_values)\n",
    "plt.plot(x_values,regress_values,\"r-\")\n",
    "plt.annotate(line_eq,(6,10),fontsize=15,color=\"red\")\n",
    "plt.xlabel('Weight (g)')\n",
    "plt.ylabel('Tumor Volume (mm3)')\n",
    "plt.show()"
   ]
  },
  {
   "cell_type": "code",
   "execution_count": 197,
   "metadata": {
    "pycharm": {
     "is_executing": false
    }
   },
   "outputs": [],
   "source": []
  }
 ],
 "metadata": {
  "anaconda-cloud": {},
  "kernelspec": {
   "name": "pycharm-9fd3a01a",
   "language": "python",
   "display_name": "PyCharm (LearningPandas)"
  },
  "language_info": {
   "codemirror_mode": {
    "name": "ipython",
    "version": 3
   },
   "file_extension": ".py",
   "mimetype": "text/x-python",
   "name": "python",
   "nbconvert_exporter": "python",
   "pygments_lexer": "ipython3",
   "version": "3.6.7"
  },
  "pycharm": {
   "stem_cell": {
    "cell_type": "raw",
    "source": [],
    "metadata": {
     "collapsed": false
    }
   }
  }
 },
 "nbformat": 4,
 "nbformat_minor": 2
}